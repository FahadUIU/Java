{
  "nbformat": 4,
  "nbformat_minor": 0,
  "metadata": {
    "colab": {
      "name": "image2mass_colab.ipynb",
      "provenance": [],
      "toc_visible": true,
      "include_colab_link": true
    },
    "kernelspec": {
      "name": "python3",
      "display_name": "Python 3"
    }
  },
  "cells": [
    {
      "cell_type": "markdown",
      "metadata": {
        "id": "view-in-github",
        "colab_type": "text"
      },
      "source": [
        "<a href=\"https://colab.research.google.com/github/FahadUIU/Java/blob/main/image2mass_colab.ipynb\" target=\"_parent\"><img src=\"https://colab.research.google.com/assets/colab-badge.svg\" alt=\"Open In Colab\"/></a>"
      ]
    },
    {
      "metadata": {
        "id": "oe71KIreqATk"
      },
      "cell_type": "markdown",
      "source": [
        "##Initial imports and installations\n",
        "###Follow the running process to press `Enter` and pass the `Google authentication ` where it's needed"
      ]
    },
    {
      "metadata": {
        "id": "17jMz8G3-7Mz"
      },
      "cell_type": "code",
      "source": [
        "!add-apt-repository ppa:deadsnakes/ppa\n",
        "!apt-get update\n",
        "!apt-get install python3.5\n",
        "!apt-get install python3.5-dev\n",
        "\n",
        "!wget https://bootstrap.pypa.io/get-pip.py && python3.5 get-pip.py\n",
        "\n",
        "!pip3.5 install Pillow\n",
        "!pip3.5 install keras==2.1.1 # the most recent version (2.1.2 at time of writing) throws an error loading the model\n",
        "!pip3.5 install lz4\n",
        "!pip3.5 install opencv-python # or install opencv another way (this method doesn't support cv.imshow() or FFmpeg) but is much easier to install\n",
        "!pip3.5 install h5py\n",
        "!pip3.5 install tensorflow\n",
        "!pip3.5 install lz4\n",
        "!pip3.5 install numba\n",
        "\n",
        "!git clone https://github.com/Dene33/image2mass.git\n",
        "\n",
        "import sys\n",
        "\n",
        "print (sys.path)\n",
        "\n",
        "sys.path[2] = '/usr/lib/python35.zip'\n",
        "sys.path[3] = '/usr/lib/python3.5'\n",
        "sys.path[4] = '/usr/lib/python3.5/lib-dynload'\n",
        "sys.path[5] = '/usr/local/lib/python3.5/dist-packages'\n",
        "sys.path[7] ='/usr/local/lib/python3.5/dist-packages/IPython/extensions'\n",
        "print (sys.path)\n",
        "\n",
        "import os\n",
        "# Install the PyDrive wrapper & import libraries.\n",
        "# This only needs to be done once per notebook.\n",
        "!pip3.5 install -U -q PyDrive\n",
        "from pydrive.auth import GoogleAuth\n",
        "from pydrive.drive import GoogleDrive\n",
        "from google.colab import auth\n",
        "from oauth2client.client import GoogleCredentials\n",
        "\n",
        "# Authenticate and create the PyDrive client.\n",
        "# This only needs to be done once per notebook.\n",
        "auth.authenticate_user()\n",
        "gauth = GoogleAuth()\n",
        "gauth.credentials = GoogleCredentials.get_application_default()\n",
        "drive = GoogleDrive(gauth)\n",
        "\n",
        "image2mass_models = ['1dZjcr7M-kp31z9UWKvX1F0M81jDHmmbF',\n",
        "                     '1f8lAlhwLoTVU7P523R-ulT9pIivV2vxH',\n",
        "                     '1bwot_XNtF-b9s0hd-MnMIn-VKtWAhqRO',\n",
        "                     '1c7Wq1J9RrZ5HDyn1OrZeQVQ5lVE9CJVr']\n",
        "\n",
        "image2mass_pklzs = ['1R1j7Srb9kztI2MZeDktbRvZEBPRwFwYt',\n",
        "                    '1zYimskF-wAWeVOWyJjoH2S_pGkBwWnXS',\n",
        "                    '1yGAAlzznmJdWU3U32EtIB-ggetzl9CL2',\n",
        "                    '1_d-BsDeBsWYTbZTLvYXFIIlV3d75-JZc',\n",
        "                    '101VbwOy_R3t9b8tI-Bhr-Awew3Vh_EX7',\n",
        "                    '1d778NdVFV0b_xYY_ix-ylLXQfNZLsG3x',\n",
        "                    '1X3hPBz6VO3kUjz2N7myzzO67KL0_TdXO']\n",
        "\n",
        "!mkdir image2mass/pklzs\n",
        "\n",
        "# Download a file based on its file ID.\n",
        "#\n",
        "# A file ID looks like: laggVyWshwcyP6kEI-y_W3P8D26sz\n",
        "\n",
        "for file_id in image2mass_models:\n",
        "  downloaded = drive.CreateFile({'id': file_id})\n",
        "  print('Downloaded content \"{}\"'.format(downloaded.GetContentFile(downloaded['title'])))\n",
        "  os.rename(downloaded['title'], 'image2mass/models/'+downloaded['title'])\n",
        "\n",
        "for file_id in image2mass_pklzs:\n",
        "  downloaded = drive.CreateFile({'id': file_id})\n",
        "  print('Downloaded content \"{}\"'.format(downloaded.GetContentFile(downloaded['title'])))\n",
        "  os.rename(downloaded['title'], 'image2mass/pklzs/'+downloaded['title'])\n",
        "\n",
        "os.chdir('image2mass')"
      ],
      "execution_count": null,
      "outputs": []
    },
    {
      "metadata": {
        "id": "uja0f5SwEc3t"
      },
      "cell_type": "markdown",
      "source": [
        "['', '/env/python', '/usr/lib/python36.zip', '/usr/lib/python3.6', '/usr/lib/python3.6/lib-dynload', '/usr/local/lib/python3.6/dist-packages', '/usr/lib/python3/dist-packages', '/usr/local/lib/python3.6/dist-packages/IPython/extensions', '/root/.ipython']"
      ]
    },
    {
      "metadata": {
        "id": "nhxWHjh_qcc7"
      },
      "cell_type": "markdown",
      "source": [
        "##Run the code"
      ]
    },
    {
      "metadata": {
        "id": "OeXvlMTABeD1",
        "outputId": "9798bf03-efb6-4bd8-9f7c-1c9fdcc6ed9e",
        "colab": {
          "base_uri": "https://localhost:8080/",
          "height": 68
        }
      },
      "cell_type": "code",
      "source": [
        "!python3.5 predict_mass.py test_set_images/airplane_clock_1.jpg 6.25 1.25 2.125 2>/dev/null"
      ],
      "execution_count": null,
      "outputs": [
        {
          "output_type": "stream",
          "text": [
            "models/shape_aware.h5\n",
            "Got: filename= test_set_images/airplane_clock_1.jpg dimensions= ( 6.25 inches by 1.25 inches by 2.125 inches.)\n",
            "test_set_images/airplane_clock_1.jpg probably weighs about 0.33056593 pounds.\n"
          ],
          "name": "stdout"
        }
      ]
    }
  ]
}